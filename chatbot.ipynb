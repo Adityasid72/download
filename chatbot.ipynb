{
  "nbformat": 4,
  "nbformat_minor": 0,
  "metadata": {
    "colab": {
      "provenance": [],
      "authorship_tag": "ABX9TyMe0JtFJWuBfMcOQeLBtiJq",
      "include_colab_link": true
    },
    "kernelspec": {
      "name": "python3",
      "display_name": "Python 3"
    },
    "language_info": {
      "name": "python"
    }
  },
  "cells": [
    {
      "cell_type": "markdown",
      "metadata": {
        "id": "view-in-github",
        "colab_type": "text"
      },
      "source": [
        "<a href=\"https://colab.research.google.com/github/Adityasid72/download/blob/main/chatbot.ipynb\" target=\"_parent\"><img src=\"https://colab.research.google.com/assets/colab-badge.svg\" alt=\"Open In Colab\"/></a>"
      ]
    },
    {
      "cell_type": "code",
      "execution_count": null,
      "metadata": {
        "id": "UYu7B2JqmL7e"
      },
      "outputs": [],
      "source": [
        "import numpy as np\n",
        "import nltk\n",
        "import string\n",
        "import random"
      ]
    },
    {
      "cell_type": "code",
      "source": [
        "f = open('/content/data.txt', 'r',errors = 'ignore')\n",
        "raw_doc = f.read()"
      ],
      "metadata": {
        "id": "IlcJsrV6mlG_"
      },
      "execution_count": null,
      "outputs": []
    },
    {
      "cell_type": "code",
      "source": [
        "raw_doc = raw_doc.lower()\n",
        "nltk.download('punkt')\n",
        "nltk.download('wordnet')\n",
        "nltk.download('omw-1.4')\n",
        "sentence_tokens = nltk.sent_tokenize(raw_doc)\n",
        "word_tokens = nltk.word_tokenize(raw_doc)"
      ],
      "metadata": {
        "colab": {
          "base_uri": "https://localhost:8080/"
        },
        "id": "buBBhxwjnvQM",
        "outputId": "95fb6641-e0bd-4379-aea2-04a7e6275a16"
      },
      "execution_count": null,
      "outputs": [
        {
          "output_type": "stream",
          "name": "stderr",
          "text": [
            "[nltk_data] Downloading package punkt to /root/nltk_data...\n",
            "[nltk_data]   Package punkt is already up-to-date!\n",
            "[nltk_data] Downloading package wordnet to /root/nltk_data...\n",
            "[nltk_data]   Package wordnet is already up-to-date!\n",
            "[nltk_data] Downloading package omw-1.4 to /root/nltk_data...\n",
            "[nltk_data]   Package omw-1.4 is already up-to-date!\n"
          ]
        }
      ]
    },
    {
      "cell_type": "code",
      "source": [
        "sentence_tokens[:5]"
      ],
      "metadata": {
        "colab": {
          "base_uri": "https://localhost:8080/"
        },
        "id": "HGnuDzdFpFN-",
        "outputId": "aec2df39-96cd-4917-f376-0e53052ecf07"
      },
      "execution_count": null,
      "outputs": [
        {
          "output_type": "execute_result",
          "data": {
            "text/plain": [
              "['\\nmain menu\\n\\nwikipediathe free encyclopedia\\nsearch wikipedia\\nsearch\\ncreate account\\nlog in\\n\\npersonal tools\\ncontents hide\\n(top)\\netymology\\ndating\\ntextual characteristics\\ntoggle textual characteristics subsection\\ncharacters\\nsynopsis\\ntoggle synopsis subsection\\nversions\\ntoggle versions subsection\\ncommentaries\\ninfluence\\ntoggle influence subsection\\nin popular culture\\ntoggle in popular culture subsection\\ntexts and translations\\nsee also\\nreferences\\ntoggle references subsection\\nfurther reading\\nexternal links\\nramayana\\n\\narticle\\ntalk\\nread\\nedit\\nview history\\n\\ntools\\nappearance hide\\ntext\\n\\nsmall\\n\\nstandard\\n\\nlarge\\nwidth\\n\\nstandard\\n\\nwide\\nfrom wikipedia, the free encyclopedia\\nthis article is about the sanskrit epic.',\n",
              " 'for other uses, see ramayana (disambiguation).',\n",
              " 'rāmāyaṇa\\n\\nrāma slaying rāvaṇa, from a royal mewar manuscript, 17th century\\ninformation\\nreligion\\thinduism\\nauthor\\tvalmiki\\nlanguage\\tsanskrit\\nperiod\\t7th century bce–3rd century ce\\nchapters\\t500 sargas, 7 kandas\\nverses\\t24,000\\nfull text\\nrāmāyaṇa at sanskrit wikisource\\n the ramayana at english wikisource\\npart of a series on\\nhinduism\\n\\nhindushistory\\norigins\\ntraditions\\ndeities\\nconcepts\\npractices\\nphilosophical schools\\ngurus, sants, philosophers\\ntexts\\nsociety\\nother topics\\nglossaryoutline\\n hinduism portal\\nvte\\nthe ramayana (/rɑːˈmɑːjənə/;[1][2] sanskrit: रामायणम्, romanized: rāmāyaṇam[3]), also known as valmiki ramayana, as traditionally attributed to valmiki, is a smriti text (also described as a sanskrit epic) from ancient india, one of the two important epics of hinduism known as the itihasas, the other being the mahabharata.',\n",
              " '[4] the epic narrates the life of rama, a prince of ayodhya in the kingdom of kosala.',\n",
              " \"the epic follows his fourteen-year exile to the forest urged by his father king dasharatha, on the request of rama's stepmother kaikeyi; his travels across forests in the indian subcontinent with his wife sita and brother lakshmana; the kidnapping of sita by ravana, the king of lanka, that resulted in war; and rama's eventual return to ayodhya along with sita to be crowned king amidst jubilation and celebration.\"]"
            ]
          },
          "metadata": {},
          "execution_count": 33
        }
      ]
    },
    {
      "cell_type": "code",
      "source": [
        "word_tokens[:5]"
      ],
      "metadata": {
        "colab": {
          "base_uri": "https://localhost:8080/"
        },
        "id": "y3IDomQjpN6r",
        "outputId": "8799311b-e208-4af4-ba36-81cfeeca260b"
      },
      "execution_count": null,
      "outputs": [
        {
          "output_type": "execute_result",
          "data": {
            "text/plain": [
              "['main', 'menu', 'wikipediathe', 'free', 'encyclopedia']"
            ]
          },
          "metadata": {},
          "execution_count": 34
        }
      ]
    },
    {
      "cell_type": "code",
      "source": [
        "lemmer = nltk.stem.WordNetLemmatizer()\n",
        "def LemTokens(tokens):\n",
        "  return [lemmer.lemmatize(token) for token in tokens]\n",
        "remove_punct_dict = dict((ord(punct), None) for punct in string.punctuation)\n",
        "def LemNormalize(text):\n",
        "  return LemTokens(nltk.word_tokenize(text.lower().translate(remove_punct_dict)))\n"
      ],
      "metadata": {
        "id": "TcsmeBHLpYnX"
      },
      "execution_count": null,
      "outputs": []
    },
    {
      "cell_type": "code",
      "source": [
        "greet_inputs = ( 'hii', 'greetings','hey','hello','hi')\n",
        "greet_responses = ('hi', 'hey', 'hi there', 'hello', 'I am glad! You are talking to me')\n",
        "def greet(sentence):\n",
        "  for word in sentence.split():\n",
        "    if word.lower() in greet_inputs:\n",
        "      return random.choice(greet_responses)"
      ],
      "metadata": {
        "id": "FHa41xUcqwA5"
      },
      "execution_count": null,
      "outputs": []
    },
    {
      "cell_type": "code",
      "source": [
        "from sklearn.feature_extraction.text import TfidfVectorizer\n",
        "from sklearn.metrics.pairwise import cosine_similarity"
      ],
      "metadata": {
        "id": "41YJWrUBsZc6"
      },
      "execution_count": null,
      "outputs": []
    },
    {
      "cell_type": "code",
      "source": [
        "def response(user_response):\n",
        "  robo1_response = ''\n",
        "  TfidfVec = TfidfVectorizer(tokenizer=LemNormalize, stop_words='english')\n",
        "  tfidf = TfidfVec.fit_transform(sentence_tokens)\n",
        "  vals = cosine_similarity(tfidf[-1], tfidf)\n",
        "  idx = vals.argsort()[0][-2]\n",
        "  flat = vals.flatten()\n",
        "  flat.sort()\n",
        "  req_tfidf = flat[-2]\n",
        "  if(req_tfidf == 0):\n",
        "    robo1_response = robo1_response + \"I am sorry! I don't understand you\"\n",
        "    return robo1_response\n",
        "  else:\n",
        "    robo1_response = robo1_response + sentence_tokens[idx]\n",
        "    return robo1_response"
      ],
      "metadata": {
        "id": "dgsxF1hysoKB"
      },
      "execution_count": null,
      "outputs": []
    },
    {
      "cell_type": "code",
      "source": [
        "flag = True\n",
        "print(\"BOT: My name is Robo. Let's have a conversation! Also, if you want to exit any time, just type Bye!\")\n",
        "while(flag == True):\n",
        "  user_response = input()\n",
        "  user_response = user_response.lower()\n",
        "  if(user_response != 'bye'):\n",
        "    if(user_response == 'thanks' or user_response == 'thank you'):\n",
        "      flag = False\n",
        "      print(\"BOT: You are welcome..\")\n",
        "    else:\n",
        "      if(greet(user_response) != None):\n",
        "        print(\"BOT: \" + greet(user_response))\n",
        "      else:\n",
        "        sentence_tokens.append(user_response)\n",
        "        word_tokens = word_tokens + nltk.word_tokenize(user_response)\n",
        "        final_words = list(set(word_tokens))\n",
        "        print(\"BOT: \", end = \"\")\n",
        "        print(response(user_response))\n",
        "        sentence_tokens.remove(user_response)\n",
        "  else:\n",
        "    flag = False\n",
        "    print(\"BOT: Goodbye! Take care..\")"
      ],
      "metadata": {
        "colab": {
          "base_uri": "https://localhost:8080/"
        },
        "id": "d3cOWIKWuWDK",
        "outputId": "0949c9bc-5995-4df6-c491-5f97fb24016e"
      },
      "execution_count": null,
      "outputs": [
        {
          "output_type": "stream",
          "name": "stdout",
          "text": [
            "BOT: My name is Robo. Let's have a conversation! Also, if you want to exit any time, just type Bye!\n",
            "hey\n",
            "BOT: hi there\n",
            "tell about ramyan\n",
            "BOT: before going back to rāma and tell him of sītā's location & desire to be rescued only by him, he decides to wreak havoc in lankā by destroying trees in the naulakha bagh and buildings and killing rāvaṇa's warriors.\n",
            "who is sita\n",
            "BOT: sita was the wife of rama.\n",
            "who is lakshyam\n",
            "BOT: I am sorry! I don't understand you\n",
            "who is laksham\n",
            "BOT: I am sorry! I don't understand you\n",
            "who is ravan\n",
            "BOT: I am sorry! I don't understand you\n",
            "who wrote ramyan\n",
            "BOT: gujarati poet premanand wrote a version of the ramayana in the 17th century.\n",
            "thank you\n",
            "BOT: You are welcome..\n"
          ]
        }
      ]
    },
    {
      "cell_type": "code",
      "source": [],
      "metadata": {
        "id": "kaYFNhRCu9yN"
      },
      "execution_count": null,
      "outputs": []
    }
  ]
}